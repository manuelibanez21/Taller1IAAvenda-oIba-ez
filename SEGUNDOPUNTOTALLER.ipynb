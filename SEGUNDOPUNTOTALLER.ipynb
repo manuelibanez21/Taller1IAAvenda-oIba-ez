{
  "cells": [
    {
      "cell_type": "markdown",
      "metadata": {},
      "source": [
        "**PUNTO 2 TALLER 1 INTRODUCCIÓN A LA INTELIGENCIA ARTIFICIAL**"
      ]
    },
    {
      "cell_type": "code",
      "execution_count": 2,
      "metadata": {
        "id": "69SdMjF_UAf4"
      },
      "outputs": [
        {
          "ename": "ModuleNotFoundError",
          "evalue": "No module named 'polars'",
          "output_type": "error",
          "traceback": [
            "\u001b[31m---------------------------------------------------------------------------\u001b[39m",
            "\u001b[31mModuleNotFoundError\u001b[39m                       Traceback (most recent call last)",
            "\u001b[36mCell\u001b[39m\u001b[36m \u001b[39m\u001b[32mIn[2]\u001b[39m\u001b[32m, line 2\u001b[39m\n\u001b[32m      1\u001b[39m \u001b[38;5;28;01mimport\u001b[39;00m\u001b[38;5;250m \u001b[39m\u001b[34;01mnumpy\u001b[39;00m\u001b[38;5;250m \u001b[39m\u001b[38;5;28;01mas\u001b[39;00m\u001b[38;5;250m \u001b[39m\u001b[34;01mnp\u001b[39;00m\n\u001b[32m----> \u001b[39m\u001b[32m2\u001b[39m \u001b[38;5;28;01mimport\u001b[39;00m\u001b[38;5;250m \u001b[39m\u001b[34;01mpolars\u001b[39;00m\u001b[38;5;250m \u001b[39m\u001b[38;5;28;01mas\u001b[39;00m\u001b[38;5;250m \u001b[39m\u001b[34;01mpd\u001b[39;00m\n\u001b[32m      3\u001b[39m \u001b[38;5;28;01mfrom\u001b[39;00m\u001b[38;5;250m \u001b[39m\u001b[34;01msklearn\u001b[39;00m\u001b[34;01m.\u001b[39;00m\u001b[34;01mutils\u001b[39;00m\u001b[38;5;250m \u001b[39m\u001b[38;5;28;01mimport\u001b[39;00m shuffle\n\u001b[32m      4\u001b[39m \u001b[38;5;28;01mimport\u001b[39;00m\u001b[38;5;250m \u001b[39m\u001b[34;01mmatplotlib\u001b[39;00m\u001b[34;01m.\u001b[39;00m\u001b[34;01mpyplot\u001b[39;00m\u001b[38;5;250m \u001b[39m\u001b[38;5;28;01mas\u001b[39;00m\u001b[38;5;250m \u001b[39m\u001b[34;01mplt\u001b[39;00m\n",
            "\u001b[31mModuleNotFoundError\u001b[39m: No module named 'polars'"
          ]
        }
      ],
      "source": [
        "import numpy as np\n",
        "import polars as pd\n",
        "from sklearn.utils import shuffle\n",
        "import matplotlib.pyplot as plt\n",
        "import hvplot.polars  "
      ]
    },
    {
      "cell_type": "markdown",
      "metadata": {
        "id": "jeRZvFKfc0Fk"
      },
      "source": [
        "**Se carga la base de datos proporcionada por el docente**"
      ]
    },
    {
      "cell_type": "code",
      "execution_count": null,
      "metadata": {
        "colab": {
          "base_uri": "https://localhost:8080/"
        },
        "id": "pNwMwRFtOGIv",
        "outputId": "a28f0cb4-73a7-4fd2-a714-b09248ae9b9c"
      },
      "outputs": [
        {
          "name": "stderr",
          "output_type": "stream",
          "text": [
            "Could not determine dtype for column 0, falling back to string\n",
            "Could not determine dtype for column 54, falling back to string\n",
            "Could not determine dtype for column 55, falling back to string\n",
            "Could not determine dtype for column 56, falling back to string\n",
            "Could not determine dtype for column 57, falling back to string\n",
            "Could not determine dtype for column 58, falling back to string\n",
            "Could not determine dtype for column 59, falling back to string\n",
            "Could not determine dtype for column 60, falling back to string\n"
          ]
        },
        {
          "name": "stdout",
          "output_type": "stream",
          "text": [
            "[String, Float64, Float64, Float64, Float64, Float64, Float64, Float64, Float64, Float64, Float64, Float64, Float64, Float64, Float64, Float64, Float64, Float64, Float64, Float64, Float64, Float64, Float64, Float64, Float64, Float64, Float64, Float64, Float64, Float64, Float64, Float64, Float64, Float64, Float64, Float64, Float64, Float64, Float64, Float64, Float64, Float64, Float64, Float64, Float64, Float64, Float64, Float64, Float64, Float64, Float64, Float64, Float64, Float64, Float64, Float64, Float64, Float64, Float64, Float64, Float64]\n"
          ]
        }
      ],
      "source": [
        "import polars as pl\n",
        "\n",
        "df = pl.read_excel(\"BD_SENSORES.xlsx\", sheet_name=\"EMG\")\n",
        "df = df.with_columns([\n",
        "    pl.col(c).cast(pl.Float64, strict=False) for c in df.columns if c != \"Usuario\"\n",
        "])\n",
        "\n",
        "print(df.dtypes) \n",
        "\n",
        "\n"
      ]
    },
    {
      "cell_type": "markdown",
      "metadata": {
        "id": "yA1swUkTdAY9"
      },
      "source": [
        "**Normalización**"
      ]
    },
    {
      "cell_type": "code",
      "execution_count": null,
      "metadata": {
        "id": "e89l4tjcVTcE"
      },
      "outputs": [
        {
          "name": "stderr",
          "output_type": "stream",
          "text": [
            "Could not determine dtype for column 0, falling back to string\n",
            "Could not determine dtype for column 54, falling back to string\n",
            "Could not determine dtype for column 55, falling back to string\n",
            "Could not determine dtype for column 56, falling back to string\n",
            "Could not determine dtype for column 57, falling back to string\n",
            "Could not determine dtype for column 58, falling back to string\n",
            "Could not determine dtype for column 59, falling back to string\n",
            "Could not determine dtype for column 60, falling back to string\n"
          ]
        },
        {
          "name": "stdout",
          "output_type": "stream",
          "text": [
            "shape: (5, 61)\n",
            "┌─────────┬──────────┬─────────┬─────────┬───┬──────┬──────┬──────┬──────┐\n",
            "│ Usuario ┆ 1        ┆ 2       ┆ 3       ┆ … ┆ 57   ┆ 58   ┆ 59   ┆ 60   │\n",
            "│ ---     ┆ ---      ┆ ---     ┆ ---     ┆   ┆ ---  ┆ ---  ┆ ---  ┆ ---  │\n",
            "│ str     ┆ str      ┆ str     ┆ str     ┆   ┆ str  ┆ str  ┆ str  ┆ str  │\n",
            "╞═════════╪══════════╪═════════╪═════════╪═══╪══════╪══════╪══════╪══════╡\n",
            "│ null    ┆   526.00 ┆ 4711.63 ┆ 2649.07 ┆ … ┆ null ┆ null ┆ null ┆ null │\n",
            "│ null    ┆   512.00 ┆ 4701.86 ┆ 2697.95 ┆ … ┆ null ┆ null ┆ null ┆ null │\n",
            "│ null    ┆   541.00 ┆ 4237.54 ┆ 2741.94 ┆ … ┆ null ┆ null ┆ null ┆ null │\n",
            "│ null    ┆   529.00 ┆ 4066.47 ┆ 2668.62 ┆ … ┆ null ┆ null ┆ null ┆ null │\n",
            "│ null    ┆   503.00 ┆ 4701.86 ┆ 2722.39 ┆ … ┆ null ┆ null ┆ null ┆ null │\n",
            "└─────────┴──────────┴─────────┴─────────┴───┴──────┴──────┴──────┴──────┘\n"
          ]
        }
      ],
      "source": [
        "import polars as pl\n",
        "\n",
        "# Cargar Excel (requiere pyxlsb o openpyxl según el formato)\n",
        "df = pl.read_excel(\"BD_SENSORES.xlsx\", sheet_name=\"EMG\")\n",
        "\n",
        "# Ver primeras filas\n",
        "print(df.head())\n",
        "\n",
        "# Normalizar solo columnas numéricas\n",
        "# Seleccionar columnas numéricas\n",
        "numeric_cols = [c for c, dt in zip(df.columns, df.dtypes) if dt == pl.Float64]\n",
        "\n",
        "# Normalizar cada columna\n",
        "df_norm = df.with_columns([\n",
        "    ((pl.col(c) - pl.col(c).min()) / (pl.col(c).max() - pl.col(c).min())).alias(c+\"_norm\")\n",
        "    for c in numeric_cols\n",
        "])\n",
        "\n",
        "# Pasar a pandas para graficar\n",
        "df_norm_pd = df_norm.to_pandas()\n"
      ]
    },
    {
      "cell_type": "markdown",
      "metadata": {},
      "source": [
        "**Gráficos**"
      ]
    },
    {
      "cell_type": "code",
      "execution_count": null,
      "metadata": {
        "id": "auX1fGpS1M2s"
      },
      "outputs": [
        {
          "ename": "ModuleNotFoundError",
          "evalue": "No module named 'polars'",
          "output_type": "error",
          "traceback": [
            "\u001b[31m---------------------------------------------------------------------------\u001b[39m",
            "\u001b[31mModuleNotFoundError\u001b[39m                       Traceback (most recent call last)",
            "\u001b[36mCell\u001b[39m\u001b[36m \u001b[39m\u001b[32mIn[1]\u001b[39m\u001b[32m, line 1\u001b[39m\n\u001b[32m----> \u001b[39m\u001b[32m1\u001b[39m \u001b[38;5;28;01mimport\u001b[39;00m\u001b[38;5;250m \u001b[39m\u001b[34;01mpolars\u001b[39;00m\u001b[38;5;250m \u001b[39m\u001b[38;5;28;01mas\u001b[39;00m\u001b[38;5;250m \u001b[39m\u001b[34;01mpl\u001b[39;00m\n\u001b[32m      2\u001b[39m \u001b[38;5;28;01mimport\u001b[39;00m\u001b[38;5;250m \u001b[39m\u001b[34;01mhvplot\u001b[39;00m\u001b[34;01m.\u001b[39;00m\u001b[34;01mpandas\u001b[39;00m  \n\u001b[32m      3\u001b[39m \u001b[38;5;28;01mimport\u001b[39;00m\u001b[38;5;250m \u001b[39m\u001b[34;01mholoviews\u001b[39;00m\u001b[38;5;250m \u001b[39m\u001b[38;5;28;01mas\u001b[39;00m\u001b[38;5;250m \u001b[39m\u001b[34;01mhv\u001b[39;00m\n",
            "\u001b[31mModuleNotFoundError\u001b[39m: No module named 'polars'"
          ]
        }
      ],
      "source": [
        "import polars as pl\n",
        "import hvplot.pandas  \n",
        "import holoviews as hv\n",
        "import panel as pn\n",
        "\n",
        "# Extensiones necesarias para renderizar en Jupyter\n",
        "pn.extension()\n",
        "hv.extension('bokeh')\n",
        "\n",
        "# Cargar y normalizar\n",
        "df = pl.read_excel(\"BD_SENSORES.xlsx\", sheet_name=\"EMG\")\n",
        "numeric_cols = [c for c, dt in zip(df.columns, df.dtypes) if dt in (pl.Float64, pl.Int64)]\n",
        "df_norm = df.with_columns([\n",
        "    ((pl.col(c) - pl.col(c).min()) / (pl.col(c).max() - pl.col(c).min())).alias(c+\"_norm\")\n",
        "    for c in numeric_cols\n",
        "])\n",
        "\n",
        "df_norm_pd = df_norm.to_pandas()\n",
        "\n",
        "# Crear una lista de plots (uno por cada columna normalizada)\n",
        "plots = []\n",
        "df_plot = df_norm_pd.filter(like=\"_norm\")\n",
        "\n",
        "for col in df_plot.columns:\n",
        "    p = df_plot.hvplot.line(y=col, width=300, height=200, title=col)\n",
        "    plots.append(p)\n",
        "\n",
        "# Organizar en un grid de 3 columnas (20 filas si son 60 señales)\n",
        "grid = hv.Layout(plots).cols(3)\n",
        "\n",
        "grid \n"
      ]
    }
  ],
  "metadata": {
    "colab": {
      "provenance": []
    },
    "kernelspec": {
      "display_name": "Python 3",
      "language": "python",
      "name": "python3"
    },
    "language_info": {
      "codemirror_mode": {
        "name": "ipython",
        "version": 3
      },
      "file_extension": ".py",
      "mimetype": "text/x-python",
      "name": "python",
      "nbconvert_exporter": "python",
      "pygments_lexer": "ipython3",
      "version": "3.13.2"
    }
  },
  "nbformat": 4,
  "nbformat_minor": 0
}
